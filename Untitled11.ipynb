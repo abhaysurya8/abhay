{
 "cells": [
  {
   "cell_type": "markdown",
   "id": "6c33e1ec-f406-44a0-bef4-7b872b87d46d",
   "metadata": {},
   "source": [
    "Data Science Tools and Ecosystem"
   ]
  },
  {
   "cell_type": "markdown",
   "id": "ea8d896b-d664-4685-b066-4d863cc31e8f",
   "metadata": {},
   "source": [
    "In this notebook, Data Science Tools and Ecosystem are summarized."
   ]
  },
  {
   "cell_type": "markdown",
   "id": "4fe28ea5-91cf-4cfb-a0e1-bbd068802890",
   "metadata": {},
   "source": [
    "Some of the popular languages that Data Scientists use are:"
   ]
  },
  {
   "cell_type": "markdown",
   "id": "8a2ee01b-ea8a-4355-93c0-8df41637fe0b",
   "metadata": {},
   "source": [
    "R, Python, Julia, Scala, SQL, Java, MATLAB\n"
   ]
  },
  {
   "cell_type": "code",
   "execution_count": 1,
   "id": "e9bd49ee-438f-40ac-8226-f6cac77d2931",
   "metadata": {},
   "outputs": [
    {
     "ename": "SyntaxError",
     "evalue": "invalid syntax (1370673747.py, line 1)",
     "output_type": "error",
     "traceback": [
      "\u001b[1;36m  Cell \u001b[1;32mIn[1], line 1\u001b[1;36m\u001b[0m\n\u001b[1;33m    Some of the commonly used libraries used by Data Scientists include:\u001b[0m\n\u001b[1;37m         ^\u001b[0m\n\u001b[1;31mSyntaxError\u001b[0m\u001b[1;31m:\u001b[0m invalid syntax\n"
     ]
    }
   ],
   "source": [
    "Some of the commonly used libraries used by Data Scientists include:\n",
    "1. Numpy"
   ]
  },
  {
   "cell_type": "markdown",
   "id": "8244ef75-4251-4608-94f6-2e3216f9709f",
   "metadata": {},
   "source": [
    "Some of the commonly used libraries used by Data Scientists include:\n",
    "1. numpy\n",
    "2. plotly\n",
    "3. pandas\n",
    "4. matplotlib\n",
    "5. seaborn\n",
    "6. opencv"
   ]
  },
  {
   "cell_type": "markdown",
   "id": "8ca90dc2-e36e-4968-acae-476648d93afc",
   "metadata": {},
   "source": [
    "Data Science Tools:\n",
    "1. Jupyter Notebook\n",
    "2. RStudio\n",
    "3. Apache Spark\n",
    "4. Excel"
   ]
  },
  {
   "cell_type": "markdown",
   "id": "d6c48784-5032-4d39-9e24-72b3e82f6947",
   "metadata": {},
   "source": [
    "### Below are a few examples of evaluating arithmetic expressions in Python"
   ]
  },
  {
   "cell_type": "markdown",
   "id": "e0f29f3d-d35d-4c9e-b0c0-f86a1f568af7",
   "metadata": {},
   "source": [
    "print((3*4)+5)\n",
    "# This a simple arithmetic expression to mutiply then add integers"
   ]
  },
  {
   "cell_type": "code",
   "execution_count": 3,
   "id": "d92a81a8-602d-42de-9d00-07ff5588d0ac",
   "metadata": {},
   "outputs": [
    {
     "name": "stdout",
     "output_type": "stream",
     "text": [
      "3.3333333333333335\n"
     ]
    }
   ],
   "source": [
    "minutes = 200\n",
    "hours = minutes / 60\n",
    "print(hours)\n",
    "#This will convert 200 minutes to hours by diving by 60"
   ]
  },
  {
   "cell_type": "markdown",
   "id": "b5bffbf6-fa76-4f34-a296-54d5a20bf6f1",
   "metadata": {},
   "source": [
    "Objectives:\n",
    "*Understand the relationship between minutes and hours through arithmetic operations.\n",
    "*Learn how to use division and modulus in Python for time conversion.\n",
    "*Practice defining variables and using print statements for output formatting.\n",
    "*Explore different representations of time (decimal and HH:MM format).\n",
    "*Develop problem-solving skills with simple real-life programming tasks."
   ]
  },
  {
   "cell_type": "markdown",
   "id": "3caf3719-6a9f-4f1b-8bbf-33ea5466abac",
   "metadata": {},
   "source": [
    "Objectives:\n",
    "-Understand the relationship between minutes and hours through arithmetic operations. \n",
    "-Learn how to use division and modulus in Python for time conversion.\n",
    "-Explore different representations of time (decimal and HH:MM format).\n",
    "-Develop problem-solving skills with simple real-life programming tasks.\n",
    "-Practice defining variables and using print statements for output formatting."
   ]
  },
  {
   "cell_type": "markdown",
   "id": "b0486003-8dc7-455c-b18c-31c8b236cd81",
   "metadata": {},
   "source": [
    "## Author"
   ]
  },
  {
   "cell_type": "markdown",
   "id": "b17859de-3bc5-482a-a342-8cc8a00b37f4",
   "metadata": {},
   "source": [
    "Abhay Surya "
   ]
  },
  {
   "cell_type": "code",
   "execution_count": null,
   "id": "d27147da-36f1-431e-87fd-87be0d996606",
   "metadata": {},
   "outputs": [],
   "source": []
  }
 ],
 "metadata": {
  "kernelspec": {
   "display_name": "Python 3 (ipykernel)",
   "language": "python",
   "name": "python3"
  },
  "language_info": {
   "codemirror_mode": {
    "name": "ipython",
    "version": 3
   },
   "file_extension": ".py",
   "mimetype": "text/x-python",
   "name": "python",
   "nbconvert_exporter": "python",
   "pygments_lexer": "ipython3",
   "version": "3.12.7"
  }
 },
 "nbformat": 4,
 "nbformat_minor": 5
}
